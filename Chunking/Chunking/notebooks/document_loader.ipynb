{
 "cells": [
  {
   "cell_type": "markdown",
   "id": "996d4160",
   "metadata": {},
   "source": [
    "<h2> Documents loader </h2>"
   ]
  },
  {
   "cell_type": "code",
   "execution_count": 8,
   "id": "8902e695",
   "metadata": {},
   "outputs": [
    {
     "name": "stdout",
     "output_type": "stream",
     "text": [
      "page_content='Lena was a curious girl who loved exploring the woods behind her house every afternoon she would pack a small bag with snacks a notebook and her favorite compass one day she discovered a trail she had never seen before it led her to a hidden pond with crystal clear water and colorful fish swimming near the surface excited she began sketching what she saw in her notebook suddenly a small turtle climbed out of the water and looked at her as if it wanted to say something she laughed and said hello little one this became her secret spot a magical place she would return to again and again.' metadata={'source': '..\\\\data\\\\no_newline.txt'}\n",
      "page_content='One day, an old man was walking along a beach that was littered with thousands of starfish that had been washed ashore by the tide. As he walked, he saw a young boy in the distance, picking something up and gently throwing it into the ocean.\n",
      "\n",
      "As the man approached, he called out, “Good morning! May I ask what you are doing?”\n",
      "\n",
      "The boy paused, looked up, and replied, “I’m throwing starfish back into the ocean. The tide has washed them up and they can’t return to the sea by themselves. If I don’t throw them back, they’ll die.”\n",
      "\n",
      "The old man replied, “But there must be tens of thousands of starfish on this beach. I’m afraid you won’t really be able to make much of a difference.”\n",
      "\n",
      "The boy bent down, picked up another starfish, and threw it as far as he could into the ocean. Then he turned, smiled, and said, “I made a difference to that one.”\n",
      "\n",
      "The man looked at the boy, thought for a moment, and then began throwing starfish back into the sea, one by one.\n",
      "' metadata={'source': '..\\\\data\\\\sample.txt'}\n",
      "########################################\n"
     ]
    },
    {
     "data": {
      "text/plain": [
       "['..\\\\data\\\\no_newline.txt', '..\\\\data\\\\sample.txt']"
      ]
     },
     "execution_count": 8,
     "metadata": {},
     "output_type": "execute_result"
    }
   ],
   "source": [
    "from langchain_community.document_loaders import DirectoryLoader\n",
    "from langchain_community.document_loaders import TextLoader\n",
    "\n",
    "text_loader_kwargs={'autodetect_encoding': True}\n",
    "loader = DirectoryLoader(\"../data/\", glob=\"**/*.txt\", loader_cls=TextLoader, loader_kwargs=text_loader_kwargs)\n",
    "docs = loader.load()\n",
    "\n",
    "#print document with metadata\n",
    "for i in docs:\n",
    "    print(i)\n",
    "\n",
    "#print document file name\n",
    "print(\"#\"*40)\n",
    "doc_sources = [doc.metadata['source']  for doc in docs]\n",
    "doc_sources\n"
   ]
  },
  {
   "cell_type": "code",
   "execution_count": null,
   "id": "d2ab4d4b",
   "metadata": {},
   "outputs": [
    {
     "name": "stdout",
     "output_type": "stream",
     "text": [
      "<langchain_community.document_loaders.html.UnstructuredHTMLLoader object at 0x00000243CAC49130>\n",
      "[Document(metadata={'source': '../data/sample.html'}, page_content='Welcome to Semantic Chunking\\n\\nSemantic chunking is the process of breaking down large bodies of text into meaningful parts based on context or meaning.\\n\\nWhy Use Chunking?\\n\\nChunking helps with retrieval accuracy and efficiency when using large language models.\\n\\nIt enables context-aware question answering and better document indexing.\\n\\nUse Cases\\n\\nCommon use cases include Retrieval-Augmented Generation (RAG), search systems, and summarization tools.')]\n"
     ]
    }
   ],
   "source": [
    "from langchain_community.document_loaders import UnstructuredHTMLLoader\n",
    "\n",
    "loader = UnstructuredHTMLLoader(\"../data/sample.html\")\n",
    "\n",
    "print(loader)\n",
    "\n",
    "data = loader.load()\n",
    "\n",
    "print(data)\n"
   ]
  },
  {
   "cell_type": "code",
   "execution_count": 15,
   "id": "41c9606e",
   "metadata": {},
   "outputs": [
    {
     "data": {
      "text/plain": [
       "[Document(metadata={'source': '../data/sample.html', 'title': 'LangChain HTML Test'}, page_content='\\n\\n\\nLangChain HTML Test\\n\\n\\n\\nWelcome to Semantic Chunking\\nSemantic chunking is the process of breaking down large bodies of text into meaningful parts based on context or meaning.\\n\\n\\nWhy Use Chunking?\\nChunking helps with retrieval accuracy and efficiency when using large language models.\\nIt enables context-aware question answering and better document indexing.\\n\\n\\nUse Cases\\nCommon use cases include Retrieval-Augmented Generation (RAG), search systems, and summarization tools.\\n\\n\\n\\n')]"
      ]
     },
     "execution_count": 15,
     "metadata": {},
     "output_type": "execute_result"
    }
   ],
   "source": [
    "from langchain_community.document_loaders import BSHTMLLoader\n",
    "\n",
    "loader = BSHTMLLoader(\"../data/sample.html\")\n",
    "data = loader.load()\n",
    "data"
   ]
  }
 ],
 "metadata": {
  "kernelspec": {
   "display_name": "venv",
   "language": "python",
   "name": "python3"
  },
  "language_info": {
   "codemirror_mode": {
    "name": "ipython",
    "version": 3
   },
   "file_extension": ".py",
   "mimetype": "text/x-python",
   "name": "python",
   "nbconvert_exporter": "python",
   "pygments_lexer": "ipython3",
   "version": "3.12.6"
  }
 },
 "nbformat": 4,
 "nbformat_minor": 5
}
