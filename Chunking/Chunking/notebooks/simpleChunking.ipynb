{
 "cells": [
  {
   "cell_type": "markdown",
   "id": "c4f1f003",
   "metadata": {},
   "source": [
    "<h2> Here are the key chunking methods you should know for Gen AI and RAG workflows: </h2>\n",
    "\n",
    "1. Fixed-Size Chunking\n",
    "2. Sliding Window Chunking\n",
    "3. Paragraph-Based Chunking\n",
    "4. Token-Based Chunking\n",
    "5. Semantic Chunking (via Embeddings or LLMs)\n",
    "6. Recursive Character/Text Splitting (used in LangChain)\n",
    "7. Metadata-Aware Chunking\n",
    "8. Title + Content Chunking\n",
    "9. Hybrid Chunking (combinations of the above)"
   ]
  },
  {
   "cell_type": "markdown",
   "id": "84a0f27f",
   "metadata": {},
   "source": [
    "Code: Fixed-Size Chunking"
   ]
  },
  {
   "cell_type": "code",
   "execution_count": 64,
   "id": "0ab96c9e",
   "metadata": {},
   "outputs": [
    {
     "name": "stdout",
     "output_type": "stream",
     "text": [
      "--- Chunk 1 ---\n",
      "One day, an old man was walking along a beach that was littered with thousands of starfish that had been washed ashore by the tide. As he walked, he saw a young boy in the distance, picking something up and gently throwing it into the ocean.\n",
      "\n",
      "########################################\n",
      "--- Chunk 2 ---\n",
      "As the man approached, he called out, “Good morning! May I ask what you are doing?”\n",
      "\n",
      "########################################\n",
      "--- Chunk 3 ---\n",
      "The boy paused, looked up, and replied, “I’m throwing starfish back into the ocean. The tide has washed them up and they can’t return to the sea by themselves. If I don’t throw them back, they’ll die.”\n",
      "\n",
      "########################################\n",
      "--- Chunk 4 ---\n",
      "The old man replied, “But there must be tens of thousands of starfish on this beach. I’m afraid you won’t really be able to make much of a difference.”\n",
      "\n",
      "########################################\n",
      "--- Chunk 5 ---\n",
      "The boy bent down, picked up another starfish, and threw it as far as he could into the ocean. Then he turned, smiled, and said, “I made a difference to that one.”\n",
      "\n",
      "########################################\n",
      "--- Chunk 6 ---\n",
      "The man looked at the boy, thought for a moment, and then began throwing starfish back into the sea, one by one.\n",
      "\n",
      "########################################\n"
     ]
    }
   ],
   "source": [
    "from langchain.text_splitter import CharacterTextSplitter\n",
    "\n",
    "# Load your text\n",
    "with open(\"../data/sample.txt\", \"r\", encoding=\"utf-8\") as f:\n",
    "    text = f.read()\n",
    "    \n",
    "fixSizetextSplitter = CharacterTextSplitter(\n",
    "    separator=\"\\n\",\n",
    "    chunk_size = 250,\n",
    ")\n",
    "\n",
    "chunks = fixSizetextSplitter.split_text(text)\n",
    "\n",
    "for i, chunk in enumerate(chunks):\n",
    "    print(f\"--- Chunk {i+1} ---\\n{chunk}\\n\")\n",
    "    print(\"#\"*40)\n"
   ]
  },
  {
   "cell_type": "markdown",
   "id": "e5bd0849",
   "metadata": {},
   "source": [
    "Code: Sliding Window Chunking"
   ]
  },
  {
   "cell_type": "code",
   "execution_count": 77,
   "id": "44c740a1",
   "metadata": {},
   "outputs": [
    {
     "name": "stdout",
     "output_type": "stream",
     "text": [
      "--- Chunk 1 ---\n",
      "Lena was a curious girl who loved exploring the woods behind her house every afternoon she would pack a small bag with snacks a notebook and her favorite compass one day she discovered a trail she had never seen before it led her to a hidden pond\n",
      "\n",
      "########################################\n",
      "--- Chunk 2 ---\n",
      "her to a hidden pond with crystal clear water and colorful fish swimming near the surface excited she began sketching what she saw in her notebook suddenly a small turtle climbed out of the water and looked at her as if it wanted to say something she\n",
      "\n",
      "########################################\n",
      "--- Chunk 3 ---\n",
      "to say something she laughed and said hello little one this became her secret spot a magical place she would return to again and again.\n",
      "\n",
      "########################################\n"
     ]
    }
   ],
   "source": [
    "from langchain.text_splitter import CharacterTextSplitter\n",
    "\n",
    "# Load your text\n",
    "with open(\"../data/no_newline.txt\", \"r\", encoding=\"utf-8\") as f:\n",
    "    text = f.read()\n",
    "    \n",
    "fixSizetextSplitter = CharacterTextSplitter(\n",
    "    separator=\" \",\n",
    "    chunk_size = 250,\n",
    "    chunk_overlap = 20\n",
    ")\n",
    "\n",
    "chunks = fixSizetextSplitter.split_text(text)\n",
    "\n",
    "for i, chunk in enumerate(chunks):\n",
    "    print(f\"--- Chunk {i+1} ---\\n{chunk}\\n\")\n",
    "    print(\"#\"*40)\n"
   ]
  },
  {
   "cell_type": "markdown",
   "id": "424f9f71",
   "metadata": {},
   "source": [
    "Paragraph-Based Chunking"
   ]
  },
  {
   "cell_type": "code",
   "execution_count": 83,
   "id": "e8e8095d",
   "metadata": {},
   "outputs": [
    {
     "name": "stdout",
     "output_type": "stream",
     "text": [
      "--- Chunk 1 ---\n",
      "One day, an old man was walking along a beach that was littered with thousands of starfish that had been washed ashore by the tide. As he walked, he saw a young boy in the distance, picking something up and gently throwing it into the ocean.\n",
      "\n",
      "--- Chunk 2 ---\n",
      "As the man approached, he called out, “Good morning! May I ask what you are doing?”\n",
      "\n",
      "--- Chunk 3 ---\n",
      "\n",
      "The boy paused, looked up, and replied, “I’m throwing starfish back into the ocean. The tide has washed them up and they can’t return to the sea by themselves. If I don’t throw them back, they’ll die.”\n",
      "\n"
     ]
    }
   ],
   "source": [
    "from langchain.text_splitter import RecursiveCharacterTextSplitter\n",
    "\n",
    "# Load your text\n",
    "with open(\"../data/sample.txt\", \"r\", encoding=\"utf-8\") as f:\n",
    "    text = f.read()\n",
    "    \n",
    "sentenceTextsplit = RecursiveCharacterTextSplitter(\n",
    "    chunk_size=200,    \n",
    "    chunk_overlap=20,\n",
    "    separators=[\"\\n\"]  # Split at periods and newlines for sentences and paragraphs\n",
    ")\n",
    "\n",
    "# Split text into chunks\n",
    "chunks = sentenceTextsplit.split_text(text)\n",
    "\n",
    "# Print sample chunks\n",
    "for i, chunk in enumerate(chunks[:3]):\n",
    "    print(f\"--- Chunk {i+1} ---\\n{chunk}\\n\")"
   ]
  },
  {
   "cell_type": "markdown",
   "id": "315017c9",
   "metadata": {},
   "source": [
    "Token-Based Chunking"
   ]
  },
  {
   "cell_type": "code",
   "execution_count": 88,
   "id": "1fdd8187",
   "metadata": {},
   "outputs": [
    {
     "name": "stdout",
     "output_type": "stream",
     "text": [
      "--- Chunk 1 ---\n",
      "One day, an old man was walking along a beach that was littered with thousands of starfish that had been washed ashore by the tide. As he walked, he saw a young boy in the distance, picking something up and gently throwing it into the ocean.\n",
      "\n",
      "As the man approached, he called out, “Good morning! May I ask what you are doing?”\n",
      "\n",
      "The boy paused, looked up, and replied, “I’m throwing starfish back\n",
      "\n",
      "--- Chunk 2 ---\n",
      " into the ocean. The tide has washed them up and they can’t return to the sea by themselves. If I don’t throw them back, they’ll die.”\n",
      "\n",
      "The old man replied, “But there must be tens of thousands of starfish on this beach. I’m afraid you won’t really be able to make much of a difference.”\n",
      "\n",
      "The boy bent down, picked up another starfish, and\n",
      "\n",
      "--- Chunk 3 ---\n",
      " threw it as far as he could into the ocean. Then he turned, smiled, and said, “I made a difference to that one.”\n",
      "\n",
      "The man looked at the boy, thought for a moment, and then began throwing starfish back into the sea, one by one.\n",
      "\n",
      "\n"
     ]
    }
   ],
   "source": [
    "from langchain.text_splitter import CharacterTextSplitter\n",
    "import tiktoken\n",
    "\n",
    "# Load text from file\n",
    "with open(\"../data/sample.txt\", \"r\", encoding=\"utf-8\") as f:\n",
    "    text = f.read()\n",
    "\n",
    "# Initialize tiktoken encoder (for GPT-style tokenization)\n",
    "enc = tiktoken.get_encoding(\"gpt2\")\n",
    "\n",
    "# Tokenize the text\n",
    "tokens = enc.encode(text)\n",
    "\n",
    "# Set the chunk size in terms of tokens (e.g., 100 tokens per chunk)\n",
    "chunk_size = 100\n",
    "\n",
    "# Create chunks based on token count\n",
    "chunks = [tokens[i:i + chunk_size] for i in range(0, len(tokens), chunk_size)]\n",
    "\n",
    "# Convert token chunks back to text (optional)\n",
    "chunk_texts = [enc.decode(chunk) for chunk in chunks]\n",
    "\n",
    "# Print first 3 chunks\n",
    "for i, chunk in enumerate(chunk_texts[:3]):\n",
    "    print(f\"--- Chunk {i+1} ---\\n{chunk}\\n\")\n"
   ]
  },
  {
   "cell_type": "markdown",
   "id": "9e8910db",
   "metadata": {},
   "source": [
    "markdown chunking"
   ]
  },
  {
   "cell_type": "code",
   "execution_count": 90,
   "id": "5e5c3b18",
   "metadata": {},
   "outputs": [
    {
     "name": "stdout",
     "output_type": "stream",
     "text": [
      "--- Chunk 1 ---\n",
      "# Introduction\n",
      "This is an overview of semantic chunking in text processing.\n",
      "\n",
      "--- Chunk 2 ---\n",
      "Why Chunking Matters\n",
      "Chunking helps large language models process information more efficiently.\n",
      "\n",
      "--- Chunk 3 ---\n",
      "Types of Chunking\n",
      "- Fixed-size chunking\n",
      "- Sentence-based chunking\n",
      "- Token-based chunking\n",
      "\n"
     ]
    },
    {
     "name": "stderr",
     "output_type": "stream",
     "text": [
      "<>:3: SyntaxWarning: invalid escape sequence '\\d'\n",
      "<>:3: SyntaxWarning: invalid escape sequence '\\d'\n",
      "C:\\Users\\chetan chopade\\AppData\\Local\\Temp\\ipykernel_2592\\92392672.py:3: SyntaxWarning: invalid escape sequence '\\d'\n",
      "  with open(\"..\\data\\markdown.md\", \"r\", encoding=\"utf-8\") as f:\n"
     ]
    }
   ],
   "source": [
    "import re\n",
    "\n",
    "with open(\"..\\data\\markdown.md\", \"r\", encoding=\"utf-8\") as f:\n",
    "    md_text = f.read()\n",
    "\n",
    "# Split at Markdown headings (lines starting with one or more #)\n",
    "chunks = re.split(r'\\n#+ ', md_text)\n",
    "\n",
    "for i, chunk in enumerate(chunks):\n",
    "    print(f\"--- Chunk {i+1} ---\\n{chunk.strip()}\\n\")\n"
   ]
  },
  {
   "cell_type": "markdown",
   "id": "47f568ee",
   "metadata": {},
   "source": [
    "Code: Fixed-Size Chunking using LangChain's CharacterTextSplitter"
   ]
  },
  {
   "cell_type": "code",
   "execution_count": 26,
   "id": "18d5cc96",
   "metadata": {},
   "outputs": [
    {
     "name": "stdout",
     "output_type": "stream",
     "text": [
      "--- Chunk 1 ---\n",
      "One day, an old man was walking along a beach that was littered with thousands of starfish that had been washed ashore by the tide. As he walked, he saw a young boy in the distance, picking something up and gently throwing it into the ocean.\n",
      "\n",
      "--- Chunk 2 ---\n",
      "As the man approached, he called out, “Good morning! May I ask what you are doing?” The boy paused, looked up, and replied, “I’m throwing starfish back into the ocean. The tide has washed them up and they can’t return to the sea by themselves. If I\n",
      "\n",
      "--- Chunk 3 ---\n",
      "they can’t return to the sea by themselves. If I don’t throw them back, they’ll die.”\n",
      "\n",
      "--- Chunk 4 ---\n",
      "The old man replied, “But there must be tens of thousands of starfish on this beach. I’m afraid you won’t really be able to make much of a difference.”\n",
      "\n",
      "--- Chunk 5 ---\n",
      "The boy bent down, picked up another starfish, and threw it as far as he could into the ocean. Then he turned, smiled, and said, “I made a difference to that one.”\n",
      "\n",
      "--- Chunk 6 ---\n",
      "The man looked at the boy, thought for a moment, and then began throwing starfish back into the sea, one by one.\n",
      "\n"
     ]
    }
   ],
   "source": [
    "from langchain.text_splitter import RecursiveCharacterTextSplitter\n",
    "\n",
    "# Load your text\n",
    "with open(\"../data/sample.txt\", \"r\", encoding=\"utf-8\") as f:\n",
    "    text = f.read()\n",
    "\n",
    "# Initialize CharacterTextSplitter\n",
    "text_splitter = RecursiveCharacterTextSplitter(\n",
    "    separators= [\"\\n\", \" \", \"\"],      # split on line breaks\n",
    "    chunk_size=250,      # fixed size in characters\n",
    "    chunk_overlap=50     # optional: some overlap between chunks\n",
    ")\n",
    "\n",
    "# Split text\n",
    "chunks = text_splitter.split_text(text)\n",
    "\n",
    "# Print some sample chunks\n",
    "for i, chunk in enumerate(chunks):\n",
    "    print(f\"--- Chunk {i+1} ---\\n{chunk}\\n\")\n"
   ]
  }
 ],
 "metadata": {
  "kernelspec": {
   "display_name": "venv",
   "language": "python",
   "name": "python3"
  },
  "language_info": {
   "codemirror_mode": {
    "name": "ipython",
    "version": 3
   },
   "file_extension": ".py",
   "mimetype": "text/x-python",
   "name": "python",
   "nbconvert_exporter": "python",
   "pygments_lexer": "ipython3",
   "version": "3.12.6"
  }
 },
 "nbformat": 4,
 "nbformat_minor": 5
}
