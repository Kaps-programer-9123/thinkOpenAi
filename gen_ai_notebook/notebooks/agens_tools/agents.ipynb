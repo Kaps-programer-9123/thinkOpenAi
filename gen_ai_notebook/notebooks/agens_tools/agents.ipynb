{
 "cells": [
  {
   "cell_type": "markdown",
   "id": "47ce6dc4",
   "metadata": {},
   "source": [
    "<h2>Building a LangChain Agent with Tools<h2>"
   ]
  },
  {
   "cell_type": "markdown",
   "id": "f6eec8cb",
   "metadata": {},
   "source": [
    "pip install wikipedia serpapi\n"
   ]
  },
  {
   "cell_type": "code",
   "execution_count": null,
   "id": "04059c3f",
   "metadata": {},
   "outputs": [],
   "source": [
    "from langchain.agents import initialize_agent, AgentType\n",
    "from langchain.agents.load_tools import Tool\n",
    "from langchain.tools import DuckDuckGoSearchRun\n",
    "from langchain.llms import OpenAI"
   ]
  },
  {
   "cell_type": "code",
   "execution_count": null,
   "id": "29606b22",
   "metadata": {},
   "outputs": [],
   "source": [
    "# search = DuckDuckGoSearchRun()\n",
    "\n",
    "# def multiply_numbers(a,b):\n",
    "#     return a*b\n",
    "\n",
    "# tools = [Tool(\n",
    "#                 name = \"testfun\",\n",
    "#                 func=search.run,\n",
    "#                 description=\"internate search\"\n",
    "#             ),\n",
    "#             Tool(\n",
    "#                 name=\"Multiplier\",\n",
    "#                 func=lambda x: multiply_numbers(*x.split()),\n",
    "#                 description=\"Multiplies two numbers. Input format: '3 4'\"\n",
    "\n",
    "#             )\n",
    "#          ]"
   ]
  },
  {
   "cell_type": "code",
   "execution_count": 12,
   "id": "cb990507",
   "metadata": {},
   "outputs": [],
   "source": [
    "search = DuckDuckGoSearchRun()\n",
    "\n",
    "def multiply_numbers(a: str, b: str) -> str:\n",
    "    return str(float(a) * float(b))\n",
    "\n",
    "tools = [\n",
    "    Tool(\n",
    "        name=\"DuckDuckGo Search\",\n",
    "        func=search.run,\n",
    "        description=\"Useful for when you need to look something up on the internet\"\n",
    "    ),\n",
    "    Tool(\n",
    "        name=\"Multiplier\",\n",
    "        func=lambda x: multiply_numbers(*x.split()),\n",
    "        description=\"Multiplies two numbers. Input format: '3 4'\"\n",
    "    )\n",
    "]\n"
   ]
  },
  {
   "cell_type": "code",
   "execution_count": 14,
   "id": "e2cd755c",
   "metadata": {},
   "outputs": [],
   "source": [
    "from langchain.chat_models import ChatOpenAI\n",
    "from os import getenv\n",
    "\n",
    "llm = ChatOpenAI(\n",
    "    openai_api_base=getenv(\"OPENROUTER_BASE_URL\"),\n",
    "    openai_api_key=getenv(\"OPENROUTER_API_KEY\"),\n",
    "    model_name=\"google/gemma-3-27b-it:free\",\n",
    ")\n",
    "\n",
    "response = llm.invoke(\"where is india in world\")"
   ]
  },
  {
   "cell_type": "code",
   "execution_count": 15,
   "id": "3c8e1454",
   "metadata": {},
   "outputs": [
    {
     "data": {
      "text/plain": [
       "AIMessage(content=\"India is located in **South Asia**. Here's a more detailed breakdown of its location:\\n\\n* **Continent:** Asia\\n* **Region:** South Asia\\n* **Coordinates:** Roughly 20.5937° N latitude and 78.9629° E longitude.  (This is a general center point, as India is a large country!)\\n* **Borders:**\\n    * **North:** China, Nepal, Bhutan\\n    * **West:** Pakistan, Arabian Sea\\n    * **South:** Indian Ocean\\n    * **East:** Bangladesh, Myanmar, Bay of Bengal\\n* **Relative to other major countries:**\\n    *  It's northeast of Africa, northwest of Australia, and east of the Middle East.\\n    *  It's a significant distance from Europe and the Americas.\\n\\n**Here's a helpful way to visualize it:**\\n\\n[https://www.worldometers.info/world-countries/india/](https://www.worldometers.info/world-countries/india/)  (This link has a map!)\\n\\nYou can also easily find it on any world map or using online map services like Google Maps.\\n\\n\\n\\n\")"
      ]
     },
     "execution_count": 15,
     "metadata": {},
     "output_type": "execute_result"
    }
   ],
   "source": [
    "response"
   ]
  },
  {
   "cell_type": "code",
   "execution_count": null,
   "id": "bd9299da",
   "metadata": {},
   "outputs": [
    {
     "name": "stdout",
     "output_type": "stream",
     "text": [
      "\n",
      "\n",
      "\u001b[1m> Entering new AgentExecutor chain...\u001b[0m\n",
      "\u001b[32;1m\u001b[1;3m\n",
      "Thought: The question has two parts. First, I need to find the capital of India. Second, I need to multiply 2 and 3. I will use DuckDuckGo Search for the first part and the Multiplier tool for the second part.\n",
      "Action: DuckDuckGo Search\n",
      "Action Input: capital of india\u001b[0m\n",
      "Observation: \u001b[36;1m\u001b[1;3mNew Delhi is the capital of India since 1931, when it replaced Calcutta (Kolkata). It is a modern city with broad avenues, green spaces, and government buildings, located south of Old Delhi. Learn about India, the world's most populous country and a constitutional republic with a rich cultural and religious heritage. Find out its capital, New Delhi, and other facts about its geography, economy, and history. Learn why New Delhi is the capital of India since 1911, and what was the original name and location of the capital before that. Find out more facts and trivia about India's history, geography, and culture in this article. 29 States of India and Their Capitals and Languages. List of 29 States and Capital (States and Capital of India). A nation with incredible varieties based on various terms such as topography, natural beauty, population, religion, culture, or language, has twenty-nine states presently (including J&K which is going to turn into UT from 31st Oct 2019) and seven Union Territory (which will be ... Learn the list of 28 states and 8 union territories of India, along with their capitals, history, and map. Find out the latest developments and changes in the Indian political system.\u001b[0m\n",
      "Thought:\u001b[32;1m\u001b[1;3m\n",
      "Thought: I have found the capital of India. Now I need to multiply 2 and 3.\n",
      "Action: Multiplier\n",
      "Action Input: 2 3\u001b[0m\n",
      "Observation: \u001b[33;1m\u001b[1;3m6.0\u001b[0m\n",
      "Thought:\u001b[32;1m\u001b[1;3mI now know the final answer\n",
      "Final Answer: The capital of India is New Delhi, and 2 times 3 is 6.\u001b[0m\n",
      "\n",
      "\u001b[1m> Finished chain.\u001b[0m\n"
     ]
    },
    {
     "data": {
      "text/plain": [
       "'The capital of India is New Delhi, and 2 times 3 is 6.'"
      ]
     },
     "execution_count": 17,
     "metadata": {},
     "output_type": "execute_result"
    }
   ],
   "source": [
    "agent = initialize_agent(\n",
    "    tools=tools,\n",
    "    llm=llm,\n",
    "    agent=AgentType.ZERO_SHOT_REACT_DESCRIPTION,\n",
    "    verbose=True,\n",
    ")\n",
    "\n",
    "\n",
    "response = agent.run(\"what is capital of india, and what is 2 times 3\")\n",
    "response\n"
   ]
  },
  {
   "cell_type": "code",
   "execution_count": null,
   "id": "365cbb5c",
   "metadata": {},
   "outputs": [],
   "source": [
    "from langchain.agents import initialize_agent, Tool, AgentType\n",
    "from langchain.chains import LLMChain\n",
    "from langchain.prompts import PromptTemplate\n",
    "from langchain.chat_models import ChatOpenAI\n",
    "from os import getenv\n",
    "\n",
    "# LLM\n",
    "llm = ChatOpenAI(\n",
    "    openai_api_base=getenv(\"OPENROUTER_BASE_URL\"),\n",
    "    openai_api_key=getenv(\"OPENROUTER_API_KEY\"),\n",
    "    model_name=\"google/gemma-3-27b-it:free\"\n",
    ")\n",
    "\n",
    "# LLMChain: generate a slogan\n",
    "prompt = PromptTemplate(\n",
    "    input_variables=[\"product\"],\n",
    "    template=\"Write a creative slogan for a product called {product}.\"\n",
    ")\n",
    "\n",
    "slogan_chain = LLMChain(llm=llm, prompt=prompt)\n",
    "\n",
    "# Wrap LLMChain as a Tool\n",
    "slogan_tool = Tool(\n",
    "    name=\"SloganGenerator\",\n",
    "    func=slogan_chain.run,\n",
    "    description=\"Generates a marketing slogan. Input: product name.\"\n",
    ")\n",
    "\n",
    "# Agent with the LLMChain tool\n",
    "agent = initialize_agent(\n",
    "    tools=[slogan_tool],\n",
    "    llm=llm,\n",
    "    agent=AgentType.ZERO_SHOT_REACT_DESCRIPTION,\n",
    "    verbose=True\n",
    ")\n",
    "\n",
    "# Run the agent\n",
    "agent.run(\"Create a slogan for a solar-powered backpack.\")\n"
   ]
  }
 ],
 "metadata": {
  "kernelspec": {
   "display_name": "venv",
   "language": "python",
   "name": "python3"
  },
  "language_info": {
   "codemirror_mode": {
    "name": "ipython",
    "version": 3
   },
   "file_extension": ".py",
   "mimetype": "text/x-python",
   "name": "python",
   "nbconvert_exporter": "python",
   "pygments_lexer": "ipython3",
   "version": "3.12.6"
  }
 },
 "nbformat": 4,
 "nbformat_minor": 5
}
