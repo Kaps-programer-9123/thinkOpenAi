{
 "cells": [
  {
   "cell_type": "markdown",
   "id": "25e623aa",
   "metadata": {},
   "source": [
    "## Quickstart"
   ]
  },
  {
   "cell_type": "code",
   "execution_count": 1,
   "id": "b31d415c",
   "metadata": {},
   "outputs": [
    {
     "data": {
      "text/plain": [
       "\"New Delhi is the capital of India since 1931, when it was moved from Calcutta by the British. It is a modern city with broad avenues, green spaces, and government buildings, located south of Old Delhi. Learn why New Delhi is the capital of India since 1911, and what was the original name and location of the capital before that. Find out more facts and trivia about India's history, geography, and culture in this article. India, country that occupies the greater part of South Asia.It is made up of 28 states and eight union territories, and its national capital is New Delhi, built in the 20th century just south of the historic hub of Old Delhi to serve as India's administrative center.Its government is a constitutional republic that represents a highly diverse population consisting of thousands of ethnic ... What is the capital of India today? New Delhi is the capital of India and one of Delhi city's 11 districts. Although colloquially Delhi and New Delhi are used interchangeably to refer to the National Capital Territory of Delhi, these are two distinct entities, with New Delhi forming a small part of Delhi. Delhi is the capital of India instead of Mumbai because Delhi's central location within the country made it a practical choice for a capital city. It was also seen as a symbol of national unity, as it had been the historical capital of several empires in India.\""
      ]
     },
     "execution_count": 1,
     "metadata": {},
     "output_type": "execute_result"
    }
   ],
   "source": [
    "from langchain.tools import DuckDuckGoSearchRun\n",
    "tool = DuckDuckGoSearchRun()\n",
    "\n",
    "tool.invoke(\"what is capital of india\")\n",
    "\n"
   ]
  },
  {
   "cell_type": "code",
   "execution_count": null,
   "id": "0d7ee10b",
   "metadata": {},
   "outputs": [],
   "source": [
    "from langchain.chains import LLMChain\n",
    "from langchain.prompts import PromptTemplate\n",
    "from langchain.chat_models import ChatOpenAI\n",
    "from os import getenv\n",
    "\n",
    "template = \"\"\"\n",
    "what is capital of {input}\n",
    "\"\"\"\n",
    "\n",
    "template1 = \"\"\"\n",
    "how many state in country {country}\n",
    "\"\"\"\n",
    "\n",
    "promte_template =  PromptTemplate(\n",
    "    template=template,\n",
    "    input_variables=[\"input\"]\n",
    ")\n",
    "\n",
    "promte_template1 = PromptTemplate(\n",
    "    template=template1,\n",
    "    input_variables=[\"country\"]\n",
    ")\n",
    "\n",
    "llm = ChatOpenAI(\n",
    "    openai_api_base=getenv(\"OPENROUTER_BASE_URL\"),\n",
    "    openai_api_key=getenv(\"OPENROUTER_API_KEY\"),\n",
    "    model_name=\"google/gemma-3-27b-it:free\",\n",
    ")\n",
    "\n",
    "chain = LLMChain(llm=llm,prompt=[promte_template,promte_template1])\n",
    "\n",
    "response = chain.run({\"input\": \"india\", \"country\": \"india\"})\n",
    "response\n"
   ]
  },
  {
   "cell_type": "code",
   "execution_count": 13,
   "id": "5a4045df",
   "metadata": {},
   "outputs": [
    {
     "name": "stdout",
     "output_type": "stream",
     "text": [
      "\n",
      "\n",
      "\u001b[1m> Entering new SequentialChain chain...\u001b[0m\n",
      "\n",
      "\u001b[1m> Finished chain.\u001b[0m\n",
      "There are currently **28 states** and **8 Union Territories** in India. \n",
      "\n",
      "Here's the list of states:\n",
      "\n",
      "1. Andhra Pradesh\n",
      "2. Arunachal Pradesh\n",
      "3. Assam\n",
      "4. Bihar\n",
      "5. Chhattisgarh\n",
      "6. Goa\n",
      "7. Gujarat\n",
      "8. Haryana\n",
      "9. Himachal Pradesh\n",
      "10. Jharkhand\n",
      "11. Karnataka\n",
      "12. Kerala\n",
      "13. Madhya Pradesh\n",
      "14. Maharashtra\n",
      "15. Manipur\n",
      "16. Meghalaya\n",
      "17. Mizoram\n",
      "18. Nagaland\n",
      "19. Odisha\n",
      "20. Punjab\n",
      "21. Rajasthan\n",
      "22. Sikkim\n",
      "23. Tamil Nadu\n",
      "24. Telangana\n",
      "25. Tripura\n",
      "26. Uttar Pradesh\n",
      "27. Uttarakhand\n",
      "28. West Bengal\n",
      "\n",
      "\n",
      "\n",
      "And here are the 8 Union Territories:\n",
      "\n",
      "1. Andaman and Nicobar Islands\n",
      "2. Chandigarh\n",
      "3. Dadra and Nagar Haveli and Daman and Diu\n",
      "4. Delhi\n",
      "5. Jammu and Kashmir\n",
      "6. Ladakh\n",
      "7. Lakshadweep\n",
      "8. Puducherry\n",
      "\n",
      "\n",
      "\n",
      "It's worth noting that the number of states has changed over time due to reorganization.  For example, Telangana was formed in 2014, splitting from Andhra Pradesh.  Also, Jammu and Kashmir was reorganized into two Union Territories in 2019: Jammu and Kashmir and Ladakh.\n",
      "\n",
      "\n",
      "\n",
      "\n"
     ]
    }
   ],
   "source": [
    "from langchain.chains import LLMChain, SequentialChain\n",
    "from langchain.prompts import PromptTemplate\n",
    "from langchain.chat_models import ChatOpenAI\n",
    "from os import getenv\n",
    "\n",
    "# Prompt 1: Capital city\n",
    "template = \"What is the capital of {country}?\"\n",
    "prompt_template = PromptTemplate(template=template, input_variables=[\"country\"])\n",
    "\n",
    "# Prompt 2: Number of states\n",
    "template1 = \"How many states are there in {country}?\"\n",
    "prompt_template1 = PromptTemplate(template=template1, input_variables=[\"country\"])\n",
    "\n",
    "# LLM\n",
    "llm = ChatOpenAI(\n",
    "    openai_api_base=getenv(\"OPENROUTER_BASE_URL\"),\n",
    "    openai_api_key=getenv(\"OPENROUTER_API_KEY\"),\n",
    "    model_name=\"google/gemma-3-27b-it:free\"\n",
    ")\n",
    "\n",
    "# Chain 1\n",
    "chain1 = LLMChain(llm=llm, prompt=prompt_template, output_key=\"capital\")\n",
    "# Chain 2\n",
    "chain2 = LLMChain(llm=llm, prompt=prompt_template1, output_key=\"states\")\n",
    "\n",
    "# Sequential Chain\n",
    "overall_chain = SequentialChain(\n",
    "    chains=[chain1, chain2],\n",
    "    input_variables=[\"country\"],\n",
    "    verbose=True\n",
    ")\n",
    "\n",
    "response = overall_chain.run(country=\"India\")\n",
    "print(response)\n"
   ]
  },
  {
   "cell_type": "code",
   "execution_count": 12,
   "id": "7476cfcc",
   "metadata": {},
   "outputs": [
    {
     "name": "stdout",
     "output_type": "stream",
     "text": [
      "A: You started with 3 apples. You ate 1 apple. 3 - 1 = 2. \n",
      "\n",
      "So the answer is **2** apples are left.\n",
      "\n",
      "\n",
      "\n",
      "\n"
     ]
    }
   ],
   "source": [
    "from langchain.prompts import PromptTemplate\n",
    "\n",
    "cot_prompt = PromptTemplate.from_template(\n",
    "    \"Q: {question}\\nA: Let's think step by step.\"\n",
    ")\n",
    "\n",
    "chain = LLMChain(llm=llm, prompt=cot_prompt)\n",
    "print(chain.run(\"If I have 3 apples and eat one, how many are left?\"))\n"
   ]
  }
 ],
 "metadata": {
  "kernelspec": {
   "display_name": "venv",
   "language": "python",
   "name": "python3"
  },
  "language_info": {
   "codemirror_mode": {
    "name": "ipython",
    "version": 3
   },
   "file_extension": ".py",
   "mimetype": "text/x-python",
   "name": "python",
   "nbconvert_exporter": "python",
   "pygments_lexer": "ipython3",
   "version": "3.12.6"
  }
 },
 "nbformat": 4,
 "nbformat_minor": 5
}
