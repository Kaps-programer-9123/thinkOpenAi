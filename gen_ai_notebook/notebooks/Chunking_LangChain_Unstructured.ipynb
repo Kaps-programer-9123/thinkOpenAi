{
 "cells": [
  {
   "cell_type": "markdown",
   "id": "b6be0f88",
   "metadata": {},
   "source": [
    "# Chunking with LangChain and Unstructured I/O"
   ]
  },
  {
   "cell_type": "markdown",
   "id": "1ca06490",
   "metadata": {},
   "source": [
    "\n",
    "This notebook demonstrates how to:\n",
    "- Extract text from PDF, DOCX, and HTML using Unstructured I/O\n",
    "- Chunk the extracted text using LangChain's text splitters\n",
    "- Compare different chunking strategies\n",
    "- Prepare data for a basic RAG pipeline\n",
    "    "
   ]
  },
  {
   "cell_type": "code",
   "execution_count": null,
   "id": "49b64aed",
   "metadata": {},
   "outputs": [
    {
     "ename": "SyntaxError",
     "evalue": "invalid syntax (2226391231.py, line 1)",
     "output_type": "error",
     "traceback": [
      "  \u001b[36mCell\u001b[39m\u001b[36m \u001b[39m\u001b[32mIn[1]\u001b[39m\u001b[32m, line 1\u001b[39m\n\u001b[31m    \u001b[39m\u001b[31mpip install langchain unstructured pdf2image python-docx lxml nltk\u001b[39m\n        ^\n\u001b[31mSyntaxError\u001b[39m\u001b[31m:\u001b[39m invalid syntax\n"
     ]
    }
   ],
   "source": [
    "print(\"required installations\")\n",
    "# pip install langchain unstructured pdf2image python-docx lxml nltk\n",
    "# pip install \"unstructured[local-inference]\" --quiet\n"
   ]
  },
  {
   "cell_type": "code",
   "execution_count": 3,
   "id": "23c66db3",
   "metadata": {},
   "outputs": [
    {
     "ename": "ModuleNotFoundError",
     "evalue": "No module named 'pdfminer'",
     "output_type": "error",
     "traceback": [
      "\u001b[31m---------------------------------------------------------------------------\u001b[39m",
      "\u001b[31mModuleNotFoundError\u001b[39m                       Traceback (most recent call last)",
      "\u001b[36mCell\u001b[39m\u001b[36m \u001b[39m\u001b[32mIn[3]\u001b[39m\u001b[32m, line 7\u001b[39m\n\u001b[32m      1\u001b[39m \u001b[38;5;28;01mfrom\u001b[39;00m\u001b[38;5;250m \u001b[39m\u001b[34;01mlangchain\u001b[39;00m\u001b[34;01m.\u001b[39;00m\u001b[34;01mtext_splitter\u001b[39;00m\u001b[38;5;250m \u001b[39m\u001b[38;5;28;01mimport\u001b[39;00m (\n\u001b[32m      2\u001b[39m     CharacterTextSplitter,\n\u001b[32m      3\u001b[39m     RecursiveCharacterTextSplitter,\n\u001b[32m      4\u001b[39m     MarkdownHeaderTextSplitter\n\u001b[32m      5\u001b[39m )\n\u001b[32m----> \u001b[39m\u001b[32m7\u001b[39m \u001b[38;5;28;01mfrom\u001b[39;00m\u001b[38;5;250m \u001b[39m\u001b[34;01munstructured\u001b[39;00m\u001b[34;01m.\u001b[39;00m\u001b[34;01mpartition\u001b[39;00m\u001b[34;01m.\u001b[39;00m\u001b[34;01mpdf\u001b[39;00m\u001b[38;5;250m \u001b[39m\u001b[38;5;28;01mimport\u001b[39;00m partition_pdf\n\u001b[32m      8\u001b[39m \u001b[38;5;28;01mfrom\u001b[39;00m\u001b[38;5;250m \u001b[39m\u001b[34;01munstructured\u001b[39;00m\u001b[34;01m.\u001b[39;00m\u001b[34;01mpartition\u001b[39;00m\u001b[34;01m.\u001b[39;00m\u001b[34;01mdocx\u001b[39;00m\u001b[38;5;250m \u001b[39m\u001b[38;5;28;01mimport\u001b[39;00m partition_docx\n\u001b[32m      9\u001b[39m \u001b[38;5;28;01mfrom\u001b[39;00m\u001b[38;5;250m \u001b[39m\u001b[34;01munstructured\u001b[39;00m\u001b[34;01m.\u001b[39;00m\u001b[34;01mpartition\u001b[39;00m\u001b[34;01m.\u001b[39;00m\u001b[34;01mhtml\u001b[39;00m\u001b[38;5;250m \u001b[39m\u001b[38;5;28;01mimport\u001b[39;00m partition_html\n",
      "\u001b[36mFile \u001b[39m\u001b[32mc:\\Users\\chetan chopade\\Desktop\\python_test_kapil\\llm_test\\venv\\Lib\\site-packages\\unstructured\\partition\\pdf.py:14\u001b[39m\n\u001b[32m     12\u001b[39m \u001b[38;5;28;01mimport\u001b[39;00m\u001b[38;5;250m \u001b[39m\u001b[34;01mnumpy\u001b[39;00m\u001b[38;5;250m \u001b[39m\u001b[38;5;28;01mas\u001b[39;00m\u001b[38;5;250m \u001b[39m\u001b[34;01mnp\u001b[39;00m\n\u001b[32m     13\u001b[39m \u001b[38;5;28;01mimport\u001b[39;00m\u001b[38;5;250m \u001b[39m\u001b[34;01mwrapt\u001b[39;00m\n\u001b[32m---> \u001b[39m\u001b[32m14\u001b[39m \u001b[38;5;28;01mfrom\u001b[39;00m\u001b[38;5;250m \u001b[39m\u001b[34;01mpdfminer\u001b[39;00m\u001b[34;01m.\u001b[39;00m\u001b[34;01mlayout\u001b[39;00m\u001b[38;5;250m \u001b[39m\u001b[38;5;28;01mimport\u001b[39;00m LTContainer, LTImage, LTItem, LTTextBox\n\u001b[32m     15\u001b[39m \u001b[38;5;28;01mfrom\u001b[39;00m\u001b[38;5;250m \u001b[39m\u001b[34;01mpdfminer\u001b[39;00m\u001b[34;01m.\u001b[39;00m\u001b[34;01mutils\u001b[39;00m\u001b[38;5;250m \u001b[39m\u001b[38;5;28;01mimport\u001b[39;00m open_filename\n\u001b[32m     16\u001b[39m \u001b[38;5;28;01mfrom\u001b[39;00m\u001b[38;5;250m \u001b[39m\u001b[34;01mpi_heif\u001b[39;00m\u001b[38;5;250m \u001b[39m\u001b[38;5;28;01mimport\u001b[39;00m register_heif_opener\n",
      "\u001b[31mModuleNotFoundError\u001b[39m: No module named 'pdfminer'"
     ]
    }
   ],
   "source": [
    "\n",
    "from langchain.text_splitter import (\n",
    "    CharacterTextSplitter,\n",
    "    RecursiveCharacterTextSplitter,\n",
    "    MarkdownHeaderTextSplitter\n",
    ")\n",
    "\n",
    "from unstructured.partition.pdf import partition_pdf\n",
    "from unstructured.partition.docx import partition_docx\n",
    "from unstructured.partition.html import partition_html\n",
    "\n",
    "import os\n"
   ]
  },
  {
   "cell_type": "markdown",
   "id": "047165a2",
   "metadata": {},
   "source": [
    "## 1. Extract and Chunk PDF"
   ]
  },
  {
   "cell_type": "code",
   "execution_count": null,
   "id": "d977aab7",
   "metadata": {},
   "outputs": [],
   "source": [
    "\n",
    "pdf_elements = partition_pdf(filename=\"sample.pdf\")\n",
    "pdf_text = \" \".join([el.text for el in pdf_elements if el.text])\n",
    "\n",
    "text_splitter = RecursiveCharacterTextSplitter(chunk_size=500, chunk_overlap=50)\n",
    "pdf_chunks = text_splitter.split_text(pdf_text)\n",
    "\n",
    "print(f\"Total chunks from PDF: {len(pdf_chunks)}\")\n",
    "print(pdf_chunks[:2])\n"
   ]
  },
  {
   "cell_type": "markdown",
   "id": "72e55b92",
   "metadata": {},
   "source": [
    "## 2. Extract and Chunk DOCX"
   ]
  },
  {
   "cell_type": "code",
   "execution_count": null,
   "id": "58b82a15",
   "metadata": {},
   "outputs": [],
   "source": [
    "\n",
    "docx_elements = partition_docx(filename=\"sample.docx\")\n",
    "docx_text = \" \".join([el.text for el in docx_elements if el.text])\n",
    "\n",
    "docx_chunks = text_splitter.split_text(docx_text)\n",
    "\n",
    "print(f\"Total chunks from DOCX: {len(docx_chunks)}\")\n",
    "print(docx_chunks[:2])\n"
   ]
  },
  {
   "cell_type": "markdown",
   "id": "06fd4168",
   "metadata": {},
   "source": [
    "## 3. Extract and Chunk HTML"
   ]
  },
  {
   "cell_type": "code",
   "execution_count": null,
   "id": "37a0e9dd",
   "metadata": {},
   "outputs": [],
   "source": [
    "\n",
    "html_elements = partition_html(filename=\"sample.html\")\n",
    "html_text = \" \".join([el.text for el in html_elements if el.text])\n",
    "\n",
    "html_chunks = text_splitter.split_text(html_text)\n",
    "\n",
    "print(f\"Total chunks from HTML: {len(html_chunks)}\")\n",
    "print(html_chunks[:2])\n"
   ]
  }
 ],
 "metadata": {
  "kernelspec": {
   "display_name": "venv",
   "language": "python",
   "name": "python3"
  },
  "language_info": {
   "codemirror_mode": {
    "name": "ipython",
    "version": 3
   },
   "file_extension": ".py",
   "mimetype": "text/x-python",
   "name": "python",
   "nbconvert_exporter": "python",
   "pygments_lexer": "ipython3",
   "version": "3.12.6"
  }
 },
 "nbformat": 4,
 "nbformat_minor": 5
}
