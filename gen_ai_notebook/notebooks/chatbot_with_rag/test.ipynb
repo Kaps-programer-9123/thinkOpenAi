{
 "cells": [
  {
   "cell_type": "code",
   "execution_count": 1,
   "id": "a11a8764",
   "metadata": {},
   "outputs": [
    {
     "name": "stdout",
     "output_type": "stream",
     "text": [
      "testing\n"
     ]
    }
   ],
   "source": [
    "print(\"testing\")\n"
   ]
  },
  {
   "cell_type": "code",
   "execution_count": 6,
   "id": "74a90063",
   "metadata": {},
   "outputs": [
    {
     "name": "stdout",
     "output_type": "stream",
     "text": [
      "['k', 'ka', 'kap', 'kapi', 'kapil', 'a', 'ap', 'api', 'apil', 'p', 'pi', 'pil', 'i', 'il', 'l']\n"
     ]
    }
   ],
   "source": [
    "string1 = \"kapilc\"\n",
    "list1 = []\n",
    "for i in range(len(string1)):\n",
    "    for j in range(i+1,len(string1)):\n",
    "        list1.append(string1[i:j])\n",
    "        \n",
    "print(list1)"
   ]
  },
  {
   "cell_type": "code",
   "execution_count": 17,
   "id": "c817bd8a",
   "metadata": {},
   "outputs": [
    {
     "name": "stdout",
     "output_type": "stream",
     "text": [
      "sdhud sdjisj\n",
      "int1 10\n"
     ]
    }
   ],
   "source": [
    "# def getall(*test):\n",
    "#     for i in test:\n",
    "#         print(test)\n",
    "        \n",
    "# getall([\"kaps\",\"c\",\"test\"])\n",
    "\n",
    "\n",
    "def kgetall(**kargs):\n",
    "    for key, value in kargs.items():\n",
    "        print(key,value)\n",
    "        \n",
    "kgetall(sdhud=\"sdjisj\", int1=10)"
   ]
  },
  {
   "cell_type": "code",
   "execution_count": null,
   "id": "89df8709",
   "metadata": {},
   "outputs": [
    {
     "name": "stdout",
     "output_type": "stream",
     "text": [
      "aicadr\n"
     ]
    }
   ],
   "source": [
    "teststr = \"kapilchaudhri\"\n",
    "\n",
    "\n",
    "print(teststr[1::2])"
   ]
  },
  {
   "cell_type": "code",
   "execution_count": 34,
   "id": "d098bdaa",
   "metadata": {},
   "outputs": [
    {
     "name": "stdout",
     "output_type": "stream",
     "text": [
      "[1, 2, 3, 4]\n"
     ]
    }
   ],
   "source": [
    "def remove_duplicates(list1):\n",
    "    list2 = []\n",
    "    # for i in list1:\n",
    "    #     if i not in list2:\n",
    "    #         list2.append(i)\n",
    "               \n",
    "    # return list2\n",
    "    list2 = list(set(list1))\n",
    "    return list2\n",
    "    \n",
    "\n",
    "print(remove_duplicates([1, 2, 2, 3, 1, 4]))\n"
   ]
  },
  {
   "cell_type": "code",
   "execution_count": 43,
   "id": "f0784034",
   "metadata": {},
   "outputs": [
    {
     "name": "stdout",
     "output_type": "stream",
     "text": [
      "{'a': 1, 'b': 3, 'c': 4, 'e': 5}\n"
     ]
    }
   ],
   "source": [
    "dict1 = {'a': 1, 'b': 2}\n",
    "dict2 = {'b': 3, 'c': 4}\n",
    "dict2 = dict1 | dict2\n",
    "dict2['e'] = 5\n",
    "\n",
    "print(dict2)"
   ]
  },
  {
   "cell_type": "code",
   "execution_count": null,
   "id": "3d922cd0",
   "metadata": {},
   "outputs": [
    {
     "name": "stdout",
     "output_type": "stream",
     "text": [
      "olleh\n",
      "True\n",
      "<class 'str'>\n",
      "w\n"
     ]
    }
   ],
   "source": [
    "string1 = \"hello\"\n",
    "print(string1[::-1])\n",
    "\n",
    "string1 = \"madam\"\n",
    "if string1 == string1[::-1]:\n",
    "    print(True)\n",
    "    print(type(string1))\n",
    "    \n",
    "\n",
    "\"\"\"\n",
    "Find the first non-repeating character in a string  \n",
    "Input: \"swiss\" → Output: 'w'\n",
    "\"\"\"\n",
    "\n",
    "string1 = \"swiss\"\n",
    "\n",
    "for i in string1:\n",
    "    if string1.count(i) == 1:\n",
    "        print(i)\n",
    "        break\n",
    "    \n",
    "\n",
    "    \n"
   ]
  },
  {
   "cell_type": "code",
   "execution_count": 44,
   "id": "084eacbc",
   "metadata": {},
   "outputs": [
    {
     "name": "stdout",
     "output_type": "stream",
     "text": [
      "True\n",
      "1480313283968\n",
      "1480312140480\n"
     ]
    }
   ],
   "source": [
    "\"\"\"Check if two strings are anagrams\n",
    "Input: \"listen\" and \"silent\" → Output: true\n",
    "\"\"\"\n",
    "\n",
    "string1 = \"listen\"\n",
    "string2 = \"silent\"\n",
    "\n",
    "if sorted(string1) == sorted(string2):\n",
    "    print(True)\n",
    "    \n",
    "    \n",
    "\n",
    "list1 = [1,2,3,4,6,7,3,4]\n",
    "print(id(list1))\n",
    "list1 = sorted(list1)\n",
    "\n",
    "print(id(list1))\n"
   ]
  },
  {
   "cell_type": "code",
   "execution_count": 81,
   "id": "a4960f77",
   "metadata": {},
   "outputs": [
    {
     "name": "stdout",
     "output_type": "stream",
     "text": [
      "['flo', 'fl', 'lo', 'f', 'l', 'o']\n",
      "fl\n"
     ]
    }
   ],
   "source": [
    "\"\"\"\n",
    "Longest common prefix in a list of strings\n",
    "Input: [\"flower\",\"flow\",\"flight\"] → Output: \"fl\"\n",
    "\"\"\"\n",
    "\n",
    "list1 = [\"flower\",\"flow\",\"flight\"]\n",
    "\n",
    "list1 = sorted(list1,key=len)\n",
    "\n",
    "find1 = list1[0]\n",
    "list2 = []\n",
    "for i in range(len(find1)):\n",
    "    for j in range(i+1,len(find1)):\n",
    "        list2.append(find1[i:j])\n",
    "\n",
    "list2.sort(key=len,reverse=True)\n",
    "print(list2)\n",
    "\n",
    "for i in list2:\n",
    "    for j in list1:\n",
    "        flag = True\n",
    "        if i in j:\n",
    "            continue\n",
    "            \n",
    "        else:\n",
    "            flag = False\n",
    "            break\n",
    "        \n",
    "    \n",
    "    if flag == True:\n",
    "        print(i)\n",
    "        break\n",
    "            \n",
    "\n",
    "\n"
   ]
  },
  {
   "cell_type": "code",
   "execution_count": 85,
   "id": "b0554b1f",
   "metadata": {},
   "outputs": [
    {
     "name": "stdout",
     "output_type": "stream",
     "text": [
      "a3b2c4\n"
     ]
    }
   ],
   "source": [
    "\"\"\"\n",
    "Compress a string using counts of repeated characters\n",
    "Input: \"aaabbcccc\" → Output: \"a3b2c4\"\n",
    "\"\"\"\n",
    "\n",
    "input1 = \"aaabbcccc\"\n",
    "\n",
    "output = \"\"\n",
    "\n",
    "dist1 = list(set(input1))\n",
    "\n",
    "for i in dist1:\n",
    "    output += i+str(input1.count(i))\n",
    "    \n",
    "print(output)"
   ]
  },
  {
   "cell_type": "code",
   "execution_count": 88,
   "id": "ec4c9d91",
   "metadata": {},
   "outputs": [
    {
     "name": "stdout",
     "output_type": "stream",
     "text": [
      "False\n"
     ]
    }
   ],
   "source": [
    "\"\"\"\n",
    "Check if a string has all unique characters\n",
    "Input: \"abcdef\" → Output: true\n",
    "\"\"\"\n",
    "\n",
    "input = \"aabcdef\"\n",
    "flag = True\n",
    "for i in input:\n",
    "    if input.count(i) >1:\n",
    "        print(False)\n",
    "        flag = False\n",
    "        break\n",
    "    \n",
    "if flag == True:\n",
    "    print(True)\n"
   ]
  },
  {
   "cell_type": "code",
   "execution_count": 90,
   "id": "59133401",
   "metadata": {},
   "outputs": [
    {
     "name": "stdout",
     "output_type": "stream",
     "text": [
      "{'a': 5, 'b': 2, 'c': 1, 'd': 1, 'r': 2}\n"
     ]
    }
   ],
   "source": [
    "\"\"\"\n",
    "Count character frequency in a string\n",
    "Input: \"abracadabra\" → Output: {'a': 5, 'b': 2, 'r': 2, 'c': 1, 'd': 1}\n",
    "✅ Use case: Hash table for frequency counting\n",
    "\"\"\"\n",
    "input1 = \"abracadabra\"\n",
    "litral = set(list(input1))\n",
    "output = {}\n",
    "\n",
    "for i in litral:\n",
    "    output[i] = input1.count(i)\n",
    "    \n",
    "print(output)"
   ]
  },
  {
   "cell_type": "code",
   "execution_count": 136,
   "id": "5caa5d14",
   "metadata": {},
   "outputs": [
    {
     "name": "stdout",
     "output_type": "stream",
     "text": [
      "[['eat', 'tea', 'ate'], ['tan', 'nat'], ['bat']]\n"
     ]
    }
   ],
   "source": [
    "\"\"\"\n",
    "Group anagrams from a list of strings\n",
    "Input: [\"eat\", \"tea\", \"tan\", \"ate\", \"nat\", \"bat\"]\n",
    "Output: [[\"eat\",\"tea\",\"ate\"],[\"tan\",\"nat\"],[\"bat\"]]\n",
    "\"\"\"\n",
    "Input =  [\"eat\", \"tea\", \"tan\", \"ate\", \"nat\", \"bat\"]\n",
    "Output = []\n",
    "\n",
    "for i in Input:\n",
    "    appendlist = []\n",
    "    for j in Input:\n",
    "        if sorted(i) == sorted(j):\n",
    "            appendlist += [j]\n",
    "            \n",
    "    if appendlist not in Output:\n",
    "        Output += [appendlist]\n",
    "            \n",
    "print(Output)\n"
   ]
  },
  {
   "cell_type": "code",
   "execution_count": 137,
   "id": "f1488b7e",
   "metadata": {},
   "outputs": [
    {
     "name": "stdout",
     "output_type": "stream",
     "text": [
      "[2, 7]\n"
     ]
    }
   ],
   "source": [
    "\"\"\"\n",
    "Two Sum Problem\n",
    "Input: nums = [2, 7, 11, 15], target = 9\n",
    "Output: [0, 1]\n",
    "\"\"\"\n",
    "\n",
    "nums = [2, 7, 11, 15]\n",
    "target = 9\n",
    "\n",
    "for i in range(len(nums)):\n",
    "    for j in range(i+1,len(nums)):\n",
    "        if target == nums[j]+nums[i]:\n",
    "            print([nums[i],nums[j]])\n",
    "            break"
   ]
  },
  {
   "cell_type": "code",
   "execution_count": 140,
   "id": "4d3d2ff2",
   "metadata": {},
   "outputs": [
    {
     "data": {
      "text/plain": [
       "[2, 2]"
      ]
     },
     "execution_count": 140,
     "metadata": {},
     "output_type": "execute_result"
    }
   ],
   "source": [
    "\"\"\"\n",
    "Find intersection of two arrays (with counts)\n",
    "Input: nums1 = [1,2,2,1], nums2 = [2,2] → Output: [2,2]\n",
    "✅ Use case: Build count dictionary for one array\n",
    "\"\"\"\n",
    "nums1 = [1,2,2,1]\n",
    "nums2 = [2,2]\n",
    "\n",
    "def intersect(nums1, nums2):\n",
    "    from collections import Counter\n",
    "\n",
    "    counts = Counter(nums1)\n",
    "    result = []\n",
    "\n",
    "    for num in nums2:\n",
    "        if counts[num] > 0:\n",
    "            result.append(num)\n",
    "            counts[num] -= 1\n",
    "\n",
    "    return result\n",
    "\n",
    "intersect(nums1,nums2)"
   ]
  },
  {
   "cell_type": "code",
   "execution_count": null,
   "id": "9f270372",
   "metadata": {},
   "outputs": [],
   "source": [
    "from django.db import models\n",
    "\n",
    "class mypost(models.Model):\n",
    "    id = models.indexes\n",
    "    name = models.CharField( primary_key=True,max_length=40)\n",
    "    title = models.CharField(max_length=100)\n",
    "\n",
    "\n",
    "mtobj = mypost(id=1,name=\"test\",title=\"mypost\")\n",
    "mtobj.save()\n",
    "\n",
    "\n",
    "mtobj.objects.all()\n",
    "mtobj.objects.filter(id=1)\n",
    "\n",
    "test1 = mypost.objects.get(name=\"test\")\n",
    "test1.title = \"mypost2\"\n",
    "test1.save()\n",
    "\n",
    "\n",
    "test1 = mypost.objects.get(id=1)\n",
    "test1.delete()\n",
    "\n",
    "\n",
    "test1.objects.raw(\"select * from mypost\")\n",
    "\n"
   ]
  }
 ],
 "metadata": {
  "kernelspec": {
   "display_name": "venv",
   "language": "python",
   "name": "python3"
  },
  "language_info": {
   "codemirror_mode": {
    "name": "ipython",
    "version": 3
   },
   "file_extension": ".py",
   "mimetype": "text/x-python",
   "name": "python",
   "nbconvert_exporter": "python",
   "pygments_lexer": "ipython3",
   "version": "3.12.6"
  }
 },
 "nbformat": 4,
 "nbformat_minor": 5
}
