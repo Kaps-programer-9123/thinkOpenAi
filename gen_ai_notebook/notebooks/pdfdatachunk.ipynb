{
 "cells": [
  {
   "cell_type": "markdown",
   "id": "e4a70cde",
   "metadata": {},
   "source": [
    "<h1 style=\"font-size:30px; font-weight:bold;\">PDF Data</h1>\n",
    "\n",
    "Load PDF using pypdf into array of documents, where each document contains the page content and metadata with page number\n"
   ]
  },
  {
   "cell_type": "code",
   "execution_count": null,
   "id": "02ed20fd",
   "metadata": {},
   "outputs": [],
   "source": [
    "pip install pypdf"
   ]
  },
  {
   "cell_type": "code",
   "execution_count": null,
   "id": "765f1557",
   "metadata": {},
   "outputs": [],
   "source": [
    "from langchain.document_loaders import PyPDFLoader\n",
    "\n",
    "loader = PyPDFLoader(\"../data/layout-parser-paper.pdf\")\n",
    "pages = loader.load_and_split()"
   ]
  }
 ],
 "metadata": {
  "kernelspec": {
   "display_name": "venv",
   "language": "python",
   "name": "python3"
  },
  "language_info": {
   "codemirror_mode": {
    "name": "ipython",
    "version": 3
   },
   "file_extension": ".py",
   "mimetype": "text/x-python",
   "name": "python",
   "nbconvert_exporter": "python",
   "pygments_lexer": "ipython3",
   "version": "3.12.6"
  }
 },
 "nbformat": 4,
 "nbformat_minor": 5
}
