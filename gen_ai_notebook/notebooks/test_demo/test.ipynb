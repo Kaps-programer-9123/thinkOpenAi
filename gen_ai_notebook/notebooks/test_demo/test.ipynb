{
 "cells": [
  {
   "cell_type": "code",
   "execution_count": 1,
   "id": "a11a8764",
   "metadata": {},
   "outputs": [
    {
     "name": "stdout",
     "output_type": "stream",
     "text": [
      "testing\n"
     ]
    }
   ],
   "source": [
    "print(\"testing\")\n"
   ]
  },
  {
   "cell_type": "code",
   "execution_count": 6,
   "id": "74a90063",
   "metadata": {},
   "outputs": [
    {
     "name": "stdout",
     "output_type": "stream",
     "text": [
      "['k', 'ka', 'kap', 'kapi', 'kapil', 'a', 'ap', 'api', 'apil', 'p', 'pi', 'pil', 'i', 'il', 'l']\n"
     ]
    }
   ],
   "source": [
    "string1 = \"kapilc\"\n",
    "list1 = []\n",
    "for i in range(len(string1)):\n",
    "    for j in range(i+1,len(string1)):\n",
    "        list1.append(string1[i:j])\n",
    "        \n",
    "print(list1)"
   ]
  },
  {
   "cell_type": "code",
   "execution_count": 17,
   "id": "c817bd8a",
   "metadata": {},
   "outputs": [
    {
     "name": "stdout",
     "output_type": "stream",
     "text": [
      "sdhud sdjisj\n",
      "int1 10\n"
     ]
    }
   ],
   "source": [
    "# def getall(*test):\n",
    "#     for i in test:\n",
    "#         print(test)\n",
    "        \n",
    "# getall([\"kaps\",\"c\",\"test\"])\n",
    "\n",
    "\n",
    "def kgetall(**kargs):\n",
    "    for key, value in kargs.items():\n",
    "        print(key,value)\n",
    "        \n",
    "kgetall(sdhud=\"sdjisj\", int1=10)"
   ]
  },
  {
   "cell_type": "code",
   "execution_count": null,
   "id": "89df8709",
   "metadata": {},
   "outputs": [
    {
     "name": "stdout",
     "output_type": "stream",
     "text": [
      "aicadr\n"
     ]
    }
   ],
   "source": [
    "teststr = \"kapilchaudhri\"\n",
    "\n",
    "\n",
    "print(teststr[1::2])"
   ]
  },
  {
   "cell_type": "code",
   "execution_count": 34,
   "id": "d098bdaa",
   "metadata": {},
   "outputs": [
    {
     "name": "stdout",
     "output_type": "stream",
     "text": [
      "[1, 2, 3, 4]\n"
     ]
    }
   ],
   "source": [
    "def remove_duplicates(list1):\n",
    "    list2 = []\n",
    "    # for i in list1:\n",
    "    #     if i not in list2:\n",
    "    #         list2.append(i)\n",
    "               \n",
    "    # return list2\n",
    "    list2 = list(set(list1))\n",
    "    return list2\n",
    "    \n",
    "\n",
    "print(remove_duplicates([1, 2, 2, 3, 1, 4]))\n"
   ]
  },
  {
   "cell_type": "code",
   "execution_count": 43,
   "id": "f0784034",
   "metadata": {},
   "outputs": [
    {
     "name": "stdout",
     "output_type": "stream",
     "text": [
      "{'a': 1, 'b': 3, 'c': 4, 'e': 5}\n"
     ]
    }
   ],
   "source": [
    "dict1 = {'a': 1, 'b': 2}\n",
    "dict2 = {'b': 3, 'c': 4}\n",
    "dict2 = dict1 | dict2\n",
    "dict2['e'] = 5\n",
    "\n",
    "print(dict2)"
   ]
  },
  {
   "cell_type": "code",
   "execution_count": null,
   "id": "3d922cd0",
   "metadata": {},
   "outputs": [
    {
     "name": "stdout",
     "output_type": "stream",
     "text": [
      "olleh\n",
      "True\n",
      "<class 'str'>\n",
      "w\n"
     ]
    }
   ],
   "source": [
    "string1 = \"hello\"\n",
    "print(string1[::-1])\n",
    "\n",
    "string1 = \"madam\"\n",
    "if string1 == string1[::-1]:\n",
    "    print(True)\n",
    "    print(type(string1))\n",
    "    \n",
    "\n",
    "\"\"\"\n",
    "Find the first non-repeating character in a string  \n",
    "Input: \"swiss\" → Output: 'w'\n",
    "\"\"\"\n",
    "\n",
    "string1 = \"swiss\"\n",
    "\n",
    "for i in string1:\n",
    "    if string1.count(i) == 1:\n",
    "        print(i)\n",
    "        break\n",
    "    \n",
    "\n",
    "    \n"
   ]
  },
  {
   "cell_type": "code",
   "execution_count": 44,
   "id": "084eacbc",
   "metadata": {},
   "outputs": [
    {
     "name": "stdout",
     "output_type": "stream",
     "text": [
      "True\n",
      "1480313283968\n",
      "1480312140480\n"
     ]
    }
   ],
   "source": [
    "\"\"\"Check if two strings are anagrams\n",
    "Input: \"listen\" and \"silent\" → Output: true\n",
    "\"\"\"\n",
    "\n",
    "string1 = \"listen\"\n",
    "string2 = \"silent\"\n",
    "\n",
    "if sorted(string1) == sorted(string2):\n",
    "    print(True)\n",
    "    \n",
    "    \n",
    "\n",
    "list1 = [1,2,3,4,6,7,3,4]\n",
    "print(id(list1))\n",
    "list1 = sorted(list1)\n",
    "\n",
    "print(id(list1))\n"
   ]
  },
  {
   "cell_type": "code",
   "execution_count": 81,
   "id": "a4960f77",
   "metadata": {},
   "outputs": [
    {
     "name": "stdout",
     "output_type": "stream",
     "text": [
      "['flo', 'fl', 'lo', 'f', 'l', 'o']\n",
      "fl\n"
     ]
    }
   ],
   "source": [
    "\"\"\"\n",
    "Longest common prefix in a list of strings\n",
    "Input: [\"flower\",\"flow\",\"flight\"] → Output: \"fl\"\n",
    "\"\"\"\n",
    "\n",
    "list1 = [\"flower\",\"flow\",\"flight\"]\n",
    "\n",
    "list1 = sorted(list1,key=len)\n",
    "\n",
    "find1 = list1[0]\n",
    "list2 = []\n",
    "for i in range(len(find1)):\n",
    "    for j in range(i+1,len(find1)):\n",
    "        list2.append(find1[i:j])\n",
    "\n",
    "list2.sort(key=len,reverse=True)\n",
    "print(list2)\n",
    "\n",
    "for i in list2:\n",
    "    for j in list1:\n",
    "        flag = True\n",
    "        if i in j:\n",
    "            continue\n",
    "            \n",
    "        else:\n",
    "            flag = False\n",
    "            break\n",
    "        \n",
    "    \n",
    "    if flag == True:\n",
    "        print(i)\n",
    "        break\n",
    "            \n",
    "\n",
    "\n"
   ]
  },
  {
   "cell_type": "code",
   "execution_count": 85,
   "id": "b0554b1f",
   "metadata": {},
   "outputs": [
    {
     "name": "stdout",
     "output_type": "stream",
     "text": [
      "a3b2c4\n"
     ]
    }
   ],
   "source": [
    "\"\"\"\n",
    "Compress a string using counts of repeated characters\n",
    "Input: \"aaabbcccc\" → Output: \"a3b2c4\"\n",
    "\"\"\"\n",
    "\n",
    "input1 = \"aaabbcccc\"\n",
    "\n",
    "output = \"\"\n",
    "\n",
    "dist1 = list(set(input1))\n",
    "\n",
    "for i in dist1:\n",
    "    output += i+str(input1.count(i))\n",
    "    \n",
    "print(output)"
   ]
  },
  {
   "cell_type": "code",
   "execution_count": 88,
   "id": "ec4c9d91",
   "metadata": {},
   "outputs": [
    {
     "name": "stdout",
     "output_type": "stream",
     "text": [
      "False\n"
     ]
    }
   ],
   "source": [
    "\"\"\"\n",
    "Check if a string has all unique characters\n",
    "Input: \"abcdef\" → Output: true\n",
    "\"\"\"\n",
    "\n",
    "input = \"aabcdef\"\n",
    "flag = True\n",
    "for i in input:\n",
    "    if input.count(i) >1:\n",
    "        print(False)\n",
    "        flag = False\n",
    "        break\n",
    "    \n",
    "if flag == True:\n",
    "    print(True)\n"
   ]
  },
  {
   "cell_type": "code",
   "execution_count": 90,
   "id": "59133401",
   "metadata": {},
   "outputs": [
    {
     "name": "stdout",
     "output_type": "stream",
     "text": [
      "{'a': 5, 'b': 2, 'c': 1, 'd': 1, 'r': 2}\n"
     ]
    }
   ],
   "source": [
    "\"\"\"\n",
    "Count character frequency in a string\n",
    "Input: \"abracadabra\" → Output: {'a': 5, 'b': 2, 'r': 2, 'c': 1, 'd': 1}\n",
    "✅ Use case: Hash table for frequency counting\n",
    "\"\"\"\n",
    "input1 = \"abracadabra\"\n",
    "litral = set(list(input1))\n",
    "output = {}\n",
    "\n",
    "for i in litral:\n",
    "    output[i] = input1.count(i)\n",
    "    \n",
    "print(output)"
   ]
  },
  {
   "cell_type": "code",
   "execution_count": 136,
   "id": "5caa5d14",
   "metadata": {},
   "outputs": [
    {
     "name": "stdout",
     "output_type": "stream",
     "text": [
      "[['eat', 'tea', 'ate'], ['tan', 'nat'], ['bat']]\n"
     ]
    }
   ],
   "source": [
    "\"\"\"\n",
    "Group anagrams from a list of strings\n",
    "Input: [\"eat\", \"tea\", \"tan\", \"ate\", \"nat\", \"bat\"]\n",
    "Output: [[\"eat\",\"tea\",\"ate\"],[\"tan\",\"nat\"],[\"bat\"]]\n",
    "\"\"\"\n",
    "Input =  [\"eat\", \"tea\", \"tan\", \"ate\", \"nat\", \"bat\"]\n",
    "Output = []\n",
    "\n",
    "for i in Input:\n",
    "    appendlist = []\n",
    "    for j in Input:\n",
    "        if sorted(i) == sorted(j):\n",
    "            appendlist += [j]\n",
    "            \n",
    "    if appendlist not in Output:\n",
    "        Output += [appendlist]\n",
    "            \n",
    "print(Output)\n"
   ]
  },
  {
   "cell_type": "code",
   "execution_count": 137,
   "id": "f1488b7e",
   "metadata": {},
   "outputs": [
    {
     "name": "stdout",
     "output_type": "stream",
     "text": [
      "[2, 7]\n"
     ]
    }
   ],
   "source": [
    "\"\"\"\n",
    "Two Sum Problem\n",
    "Input: nums = [2, 7, 11, 15], target = 9\n",
    "Output: [0, 1]\n",
    "\"\"\"\n",
    "\n",
    "nums = [2, 7, 11, 15]\n",
    "target = 9\n",
    "\n",
    "for i in range(len(nums)):\n",
    "    for j in range(i+1,len(nums)):\n",
    "        if target == nums[j]+nums[i]:\n",
    "            print([nums[i],nums[j]])\n",
    "            break"
   ]
  },
  {
   "cell_type": "code",
   "execution_count": 140,
   "id": "4d3d2ff2",
   "metadata": {},
   "outputs": [
    {
     "data": {
      "text/plain": [
       "[2, 2]"
      ]
     },
     "execution_count": 140,
     "metadata": {},
     "output_type": "execute_result"
    }
   ],
   "source": [
    "\"\"\"\n",
    "Find intersection of two arrays (with counts)\n",
    "Input: nums1 = [1,2,2,1], nums2 = [2,2] → Output: [2,2]\n",
    "✅ Use case: Build count dictionary for one array\n",
    "\"\"\"\n",
    "nums1 = [1,2,2,1]\n",
    "nums2 = [2,2]\n",
    "\n",
    "def intersect(nums1, nums2):\n",
    "    from collections import Counter\n",
    "\n",
    "    counts = Counter(nums1)\n",
    "    result = []\n",
    "\n",
    "    for num in nums2:\n",
    "        if counts[num] > 0:\n",
    "            result.append(num)\n",
    "            counts[num] -= 1\n",
    "\n",
    "    return result\n",
    "\n",
    "intersect(nums1,nums2)"
   ]
  },
  {
   "cell_type": "code",
   "execution_count": null,
   "id": "9f270372",
   "metadata": {},
   "outputs": [
    {
     "ename": "ImproperlyConfigured",
     "evalue": "Requested setting INSTALLED_APPS, but settings are not configured. You must either define the environment variable DJANGO_SETTINGS_MODULE or call settings.configure() before accessing settings.",
     "output_type": "error",
     "traceback": [
      "\u001b[31m---------------------------------------------------------------------------\u001b[39m",
      "\u001b[31mImproperlyConfigured\u001b[39m                      Traceback (most recent call last)",
      "\u001b[36mCell\u001b[39m\u001b[36m \u001b[39m\u001b[32mIn[142]\u001b[39m\u001b[32m, line 3\u001b[39m\n\u001b[32m      1\u001b[39m \u001b[38;5;28;01mfrom\u001b[39;00m\u001b[38;5;250m \u001b[39m\u001b[34;01mdjango\u001b[39;00m\u001b[34;01m.\u001b[39;00m\u001b[34;01mdb\u001b[39;00m\u001b[38;5;250m \u001b[39m\u001b[38;5;28;01mimport\u001b[39;00m models\n\u001b[32m----> \u001b[39m\u001b[32m3\u001b[39m \u001b[38;5;28;43;01mclass\u001b[39;49;00m\u001b[38;5;250;43m \u001b[39;49m\u001b[34;43;01mmypost\u001b[39;49;00m\u001b[43m(\u001b[49m\u001b[43mmodels\u001b[49m\u001b[43m.\u001b[49m\u001b[43mModel\u001b[49m\u001b[43m)\u001b[49m\u001b[43m:\u001b[49m\n\u001b[32m      4\u001b[39m \u001b[43m    \u001b[49m\u001b[38;5;28;43mid\u001b[39;49m\u001b[43m \u001b[49m\u001b[43m=\u001b[49m\u001b[43m \u001b[49m\u001b[43mmodels\u001b[49m\u001b[43m.\u001b[49m\u001b[43mindexes\u001b[49m\n\u001b[32m      5\u001b[39m \u001b[43m    \u001b[49m\u001b[43mname\u001b[49m\u001b[43m \u001b[49m\u001b[43m=\u001b[49m\u001b[43m \u001b[49m\u001b[43mmodels\u001b[49m\u001b[43m.\u001b[49m\u001b[43mCharField\u001b[49m\u001b[43m(\u001b[49m\u001b[43m \u001b[49m\u001b[43mprimary_key\u001b[49m\u001b[43m=\u001b[49m\u001b[38;5;28;43;01mTrue\u001b[39;49;00m\u001b[43m,\u001b[49m\u001b[43mmax_length\u001b[49m\u001b[43m=\u001b[49m\u001b[32;43m40\u001b[39;49m\u001b[43m)\u001b[49m\n",
      "\u001b[36mFile \u001b[39m\u001b[32mc:\\Users\\chetan chopade\\Desktop\\python_test_kapil\\llm_test\\venv\\Lib\\site-packages\\django\\db\\models\\base.py:131\u001b[39m, in \u001b[36mModelBase.__new__\u001b[39m\u001b[34m(cls, name, bases, attrs, **kwargs)\u001b[39m\n\u001b[32m    128\u001b[39m app_label = \u001b[38;5;28;01mNone\u001b[39;00m\n\u001b[32m    130\u001b[39m \u001b[38;5;66;03m# Look for an application configuration to attach the model to.\u001b[39;00m\n\u001b[32m--> \u001b[39m\u001b[32m131\u001b[39m app_config = \u001b[43mapps\u001b[49m\u001b[43m.\u001b[49m\u001b[43mget_containing_app_config\u001b[49m\u001b[43m(\u001b[49m\u001b[43mmodule\u001b[49m\u001b[43m)\u001b[49m\n\u001b[32m    133\u001b[39m \u001b[38;5;28;01mif\u001b[39;00m \u001b[38;5;28mgetattr\u001b[39m(meta, \u001b[33m\"\u001b[39m\u001b[33mapp_label\u001b[39m\u001b[33m\"\u001b[39m, \u001b[38;5;28;01mNone\u001b[39;00m) \u001b[38;5;129;01mis\u001b[39;00m \u001b[38;5;28;01mNone\u001b[39;00m:\n\u001b[32m    134\u001b[39m     \u001b[38;5;28;01mif\u001b[39;00m app_config \u001b[38;5;129;01mis\u001b[39;00m \u001b[38;5;28;01mNone\u001b[39;00m:\n",
      "\u001b[36mFile \u001b[39m\u001b[32mc:\\Users\\chetan chopade\\Desktop\\python_test_kapil\\llm_test\\venv\\Lib\\site-packages\\django\\apps\\registry.py:260\u001b[39m, in \u001b[36mApps.get_containing_app_config\u001b[39m\u001b[34m(self, object_name)\u001b[39m\n\u001b[32m    251\u001b[39m \u001b[38;5;28;01mdef\u001b[39;00m\u001b[38;5;250m \u001b[39m\u001b[34mget_containing_app_config\u001b[39m(\u001b[38;5;28mself\u001b[39m, object_name):\n\u001b[32m    252\u001b[39m \u001b[38;5;250m    \u001b[39m\u001b[33;03m\"\"\"\u001b[39;00m\n\u001b[32m    253\u001b[39m \u001b[33;03m    Look for an app config containing a given object.\u001b[39;00m\n\u001b[32m    254\u001b[39m \n\u001b[32m   (...)\u001b[39m\u001b[32m    258\u001b[39m \u001b[33;03m    Return None if the object isn't in any registered app config.\u001b[39;00m\n\u001b[32m    259\u001b[39m \u001b[33;03m    \"\"\"\u001b[39;00m\n\u001b[32m--> \u001b[39m\u001b[32m260\u001b[39m     \u001b[38;5;28;43mself\u001b[39;49m\u001b[43m.\u001b[49m\u001b[43mcheck_apps_ready\u001b[49m\u001b[43m(\u001b[49m\u001b[43m)\u001b[49m\n\u001b[32m    261\u001b[39m     candidates = []\n\u001b[32m    262\u001b[39m     \u001b[38;5;28;01mfor\u001b[39;00m app_config \u001b[38;5;129;01min\u001b[39;00m \u001b[38;5;28mself\u001b[39m.app_configs.values():\n",
      "\u001b[36mFile \u001b[39m\u001b[32mc:\\Users\\chetan chopade\\Desktop\\python_test_kapil\\llm_test\\venv\\Lib\\site-packages\\django\\apps\\registry.py:137\u001b[39m, in \u001b[36mApps.check_apps_ready\u001b[39m\u001b[34m(self)\u001b[39m\n\u001b[32m    132\u001b[39m \u001b[38;5;28;01mfrom\u001b[39;00m\u001b[38;5;250m \u001b[39m\u001b[34;01mdjango\u001b[39;00m\u001b[34;01m.\u001b[39;00m\u001b[34;01mconf\u001b[39;00m\u001b[38;5;250m \u001b[39m\u001b[38;5;28;01mimport\u001b[39;00m settings\n\u001b[32m    134\u001b[39m \u001b[38;5;66;03m# If \"not ready\" is due to unconfigured settings, accessing\u001b[39;00m\n\u001b[32m    135\u001b[39m \u001b[38;5;66;03m# INSTALLED_APPS raises a more helpful ImproperlyConfigured\u001b[39;00m\n\u001b[32m    136\u001b[39m \u001b[38;5;66;03m# exception.\u001b[39;00m\n\u001b[32m--> \u001b[39m\u001b[32m137\u001b[39m \u001b[43msettings\u001b[49m\u001b[43m.\u001b[49m\u001b[43mINSTALLED_APPS\u001b[49m\n\u001b[32m    138\u001b[39m \u001b[38;5;28;01mraise\u001b[39;00m AppRegistryNotReady(\u001b[33m\"\u001b[39m\u001b[33mApps aren\u001b[39m\u001b[33m'\u001b[39m\u001b[33mt loaded yet.\u001b[39m\u001b[33m\"\u001b[39m)\n",
      "\u001b[36mFile \u001b[39m\u001b[32mc:\\Users\\chetan chopade\\Desktop\\python_test_kapil\\llm_test\\venv\\Lib\\site-packages\\django\\conf\\__init__.py:81\u001b[39m, in \u001b[36mLazySettings.__getattr__\u001b[39m\u001b[34m(self, name)\u001b[39m\n\u001b[32m     79\u001b[39m \u001b[38;5;250m\u001b[39m\u001b[33;03m\"\"\"Return the value of a setting and cache it in self.__dict__.\"\"\"\u001b[39;00m\n\u001b[32m     80\u001b[39m \u001b[38;5;28;01mif\u001b[39;00m (_wrapped := \u001b[38;5;28mself\u001b[39m._wrapped) \u001b[38;5;129;01mis\u001b[39;00m empty:\n\u001b[32m---> \u001b[39m\u001b[32m81\u001b[39m     \u001b[38;5;28;43mself\u001b[39;49m\u001b[43m.\u001b[49m\u001b[43m_setup\u001b[49m\u001b[43m(\u001b[49m\u001b[43mname\u001b[49m\u001b[43m)\u001b[49m\n\u001b[32m     82\u001b[39m     _wrapped = \u001b[38;5;28mself\u001b[39m._wrapped\n\u001b[32m     83\u001b[39m val = \u001b[38;5;28mgetattr\u001b[39m(_wrapped, name)\n",
      "\u001b[36mFile \u001b[39m\u001b[32mc:\\Users\\chetan chopade\\Desktop\\python_test_kapil\\llm_test\\venv\\Lib\\site-packages\\django\\conf\\__init__.py:61\u001b[39m, in \u001b[36mLazySettings._setup\u001b[39m\u001b[34m(self, name)\u001b[39m\n\u001b[32m     59\u001b[39m \u001b[38;5;28;01mif\u001b[39;00m \u001b[38;5;129;01mnot\u001b[39;00m settings_module:\n\u001b[32m     60\u001b[39m     desc = (\u001b[33m\"\u001b[39m\u001b[33msetting \u001b[39m\u001b[38;5;132;01m%s\u001b[39;00m\u001b[33m\"\u001b[39m % name) \u001b[38;5;28;01mif\u001b[39;00m name \u001b[38;5;28;01melse\u001b[39;00m \u001b[33m\"\u001b[39m\u001b[33msettings\u001b[39m\u001b[33m\"\u001b[39m\n\u001b[32m---> \u001b[39m\u001b[32m61\u001b[39m     \u001b[38;5;28;01mraise\u001b[39;00m ImproperlyConfigured(\n\u001b[32m     62\u001b[39m         \u001b[33m\"\u001b[39m\u001b[33mRequested \u001b[39m\u001b[38;5;132;01m%s\u001b[39;00m\u001b[33m, but settings are not configured. \u001b[39m\u001b[33m\"\u001b[39m\n\u001b[32m     63\u001b[39m         \u001b[33m\"\u001b[39m\u001b[33mYou must either define the environment variable \u001b[39m\u001b[38;5;132;01m%s\u001b[39;00m\u001b[33m \u001b[39m\u001b[33m\"\u001b[39m\n\u001b[32m     64\u001b[39m         \u001b[33m\"\u001b[39m\u001b[33mor call settings.configure() before accessing settings.\u001b[39m\u001b[33m\"\u001b[39m\n\u001b[32m     65\u001b[39m         % (desc, ENVIRONMENT_VARIABLE)\n\u001b[32m     66\u001b[39m     )\n\u001b[32m     68\u001b[39m \u001b[38;5;28mself\u001b[39m._wrapped = Settings(settings_module)\n",
      "\u001b[31mImproperlyConfigured\u001b[39m: Requested setting INSTALLED_APPS, but settings are not configured. You must either define the environment variable DJANGO_SETTINGS_MODULE or call settings.configure() before accessing settings."
     ]
    }
   ],
   "source": [
    "from django.db import models\n",
    "\n",
    "class mypost(models.Model):\n",
    "    id = models.indexes\n",
    "    name = models.CharField( primary_key=True,max_length=40)\n",
    "    title = models.CharField(max_length=100)\n",
    "\n",
    "\n",
    "mtobj = mypost(id=1,name=\"test\",title=\"mypost\")\n",
    "mtobj.save()\n",
    "\n",
    "\n",
    "mtobj.objects.all()\n",
    "mtobj.objects.filter(id=1)\n",
    "\n",
    "test1 = mypost.objects.get(name=\"test\")\n",
    "test1.title = \"mypost2\"\n",
    "test1.save()\n",
    "\n",
    "\n",
    "test1 = mypost.objects.get(id=1)\n",
    "test1.delete()\n",
    "\n",
    "\n",
    "test1.objects.raw(\"select * from mypost\")\n",
    "\n"
   ]
  }
 ],
 "metadata": {
  "kernelspec": {
   "display_name": "venv",
   "language": "python",
   "name": "python3"
  },
  "language_info": {
   "codemirror_mode": {
    "name": "ipython",
    "version": 3
   },
   "file_extension": ".py",
   "mimetype": "text/x-python",
   "name": "python",
   "nbconvert_exporter": "python",
   "pygments_lexer": "ipython3",
   "version": "3.12.6"
  }
 },
 "nbformat": 4,
 "nbformat_minor": 5
}
